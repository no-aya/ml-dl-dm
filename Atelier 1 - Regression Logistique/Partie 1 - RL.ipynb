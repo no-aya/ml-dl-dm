{
 "cells": [
  {
   "cell_type": "markdown",
   "source": [
    "# Partie 1 : Régression linéaire simple"
   ],
   "metadata": {
    "collapsed": false
   },
   "id": "34f96d5c86ebec26"
  },
  {
   "cell_type": "code",
   "execution_count": 1,
   "outputs": [],
   "source": [
    "import pandas as pd"
   ],
   "metadata": {
    "collapsed": false,
    "ExecuteTime": {
     "end_time": "2023-11-14T17:02:18.144647600Z",
     "start_time": "2023-11-14T17:02:18.139640800Z"
    }
   },
   "id": "94632bcdeb1210af"
  },
  {
   "cell_type": "markdown",
   "source": [
    "### 1. Recupérer des données et d ́ecouvrir ses principales caractéristiques."
   ],
   "metadata": {
    "collapsed": false
   },
   "id": "89256e53ea2405e7"
  },
  {
   "cell_type": "code",
   "execution_count": 2,
   "id": "initial_id",
   "metadata": {
    "collapsed": true,
    "ExecuteTime": {
     "end_time": "2023-11-14T17:02:18.172780Z",
     "start_time": "2023-11-14T17:02:18.143647800Z"
    }
   },
   "outputs": [],
   "source": [
    "data = pd.read_csv('data/advertising.csv')"
   ]
  },
  {
   "cell_type": "code",
   "execution_count": 3,
   "outputs": [
    {
     "data": {
      "text/plain": "      TV  Radio  Newspaper  Sales\n0  230.1   37.8       69.2   22.1\n1   44.5   39.3       45.1   10.4\n2   17.2   45.9       69.3   12.0\n3  151.5   41.3       58.5   16.5\n4  180.8   10.8       58.4   17.9",
      "text/html": "<div>\n<style scoped>\n    .dataframe tbody tr th:only-of-type {\n        vertical-align: middle;\n    }\n\n    .dataframe tbody tr th {\n        vertical-align: top;\n    }\n\n    .dataframe thead th {\n        text-align: right;\n    }\n</style>\n<table border=\"1\" class=\"dataframe\">\n  <thead>\n    <tr style=\"text-align: right;\">\n      <th></th>\n      <th>TV</th>\n      <th>Radio</th>\n      <th>Newspaper</th>\n      <th>Sales</th>\n    </tr>\n  </thead>\n  <tbody>\n    <tr>\n      <th>0</th>\n      <td>230.1</td>\n      <td>37.8</td>\n      <td>69.2</td>\n      <td>22.1</td>\n    </tr>\n    <tr>\n      <th>1</th>\n      <td>44.5</td>\n      <td>39.3</td>\n      <td>45.1</td>\n      <td>10.4</td>\n    </tr>\n    <tr>\n      <th>2</th>\n      <td>17.2</td>\n      <td>45.9</td>\n      <td>69.3</td>\n      <td>12.0</td>\n    </tr>\n    <tr>\n      <th>3</th>\n      <td>151.5</td>\n      <td>41.3</td>\n      <td>58.5</td>\n      <td>16.5</td>\n    </tr>\n    <tr>\n      <th>4</th>\n      <td>180.8</td>\n      <td>10.8</td>\n      <td>58.4</td>\n      <td>17.9</td>\n    </tr>\n  </tbody>\n</table>\n</div>"
     },
     "execution_count": 3,
     "metadata": {},
     "output_type": "execute_result"
    }
   ],
   "source": [
    "data.head()"
   ],
   "metadata": {
    "collapsed": false,
    "ExecuteTime": {
     "end_time": "2023-11-14T17:02:18.238918300Z",
     "start_time": "2023-11-14T17:02:18.180325300Z"
    }
   },
   "id": "a0dcf4b5345986f3"
  },
  {
   "cell_type": "markdown",
   "source": [
    "Les observations :\n",
    "*I. Forme*\n",
    "- [] Identifier la variable target\n",
    "- [] Nombre de lignes et de colonnes\n",
    "- [] Identifier les valeurs manquantes\n",
    "- [] Types de variables \n",
    "\n",
    "*II. Fond*\n",
    "- [] Visualisation de la variable cible (histogramme/box plot)\n",
    "- [] Comprendre différentes variables (recherche)\n",
    "- [] Visualiser les relations: fonctionnalités/cible\n",
    "- [] Identifier les valeurs aberrantes"
   ],
   "metadata": {
    "collapsed": false,
    "ExecuteTime": {
     "end_time": "2023-10-11T22:02:48.141889200Z",
     "start_time": "2023-10-11T22:02:47.877960300Z"
    }
   },
   "id": "1c71c249607441ad"
  },
  {
   "cell_type": "code",
   "execution_count": 4,
   "outputs": [
    {
     "data": {
      "text/plain": "               TV       Radio   Newspaper       Sales\ncount  200.000000  200.000000  200.000000  200.000000\nmean   147.042500   23.264000   30.554000   15.130500\nstd     85.854236   14.846809   21.778621    5.283892\nmin      0.700000    0.000000    0.300000    1.600000\n25%     74.375000    9.975000   12.750000   11.000000\n50%    149.750000   22.900000   25.750000   16.000000\n75%    218.825000   36.525000   45.100000   19.050000\nmax    296.400000   49.600000  114.000000   27.000000",
      "text/html": "<div>\n<style scoped>\n    .dataframe tbody tr th:only-of-type {\n        vertical-align: middle;\n    }\n\n    .dataframe tbody tr th {\n        vertical-align: top;\n    }\n\n    .dataframe thead th {\n        text-align: right;\n    }\n</style>\n<table border=\"1\" class=\"dataframe\">\n  <thead>\n    <tr style=\"text-align: right;\">\n      <th></th>\n      <th>TV</th>\n      <th>Radio</th>\n      <th>Newspaper</th>\n      <th>Sales</th>\n    </tr>\n  </thead>\n  <tbody>\n    <tr>\n      <th>count</th>\n      <td>200.000000</td>\n      <td>200.000000</td>\n      <td>200.000000</td>\n      <td>200.000000</td>\n    </tr>\n    <tr>\n      <th>mean</th>\n      <td>147.042500</td>\n      <td>23.264000</td>\n      <td>30.554000</td>\n      <td>15.130500</td>\n    </tr>\n    <tr>\n      <th>std</th>\n      <td>85.854236</td>\n      <td>14.846809</td>\n      <td>21.778621</td>\n      <td>5.283892</td>\n    </tr>\n    <tr>\n      <th>min</th>\n      <td>0.700000</td>\n      <td>0.000000</td>\n      <td>0.300000</td>\n      <td>1.600000</td>\n    </tr>\n    <tr>\n      <th>25%</th>\n      <td>74.375000</td>\n      <td>9.975000</td>\n      <td>12.750000</td>\n      <td>11.000000</td>\n    </tr>\n    <tr>\n      <th>50%</th>\n      <td>149.750000</td>\n      <td>22.900000</td>\n      <td>25.750000</td>\n      <td>16.000000</td>\n    </tr>\n    <tr>\n      <th>75%</th>\n      <td>218.825000</td>\n      <td>36.525000</td>\n      <td>45.100000</td>\n      <td>19.050000</td>\n    </tr>\n    <tr>\n      <th>max</th>\n      <td>296.400000</td>\n      <td>49.600000</td>\n      <td>114.000000</td>\n      <td>27.000000</td>\n    </tr>\n  </tbody>\n</table>\n</div>"
     },
     "execution_count": 4,
     "metadata": {},
     "output_type": "execute_result"
    }
   ],
   "source": [
    "data.describe()"
   ],
   "metadata": {
    "collapsed": false,
    "ExecuteTime": {
     "end_time": "2023-11-14T17:02:18.239918400Z",
     "start_time": "2023-11-14T17:02:18.198463700Z"
    }
   },
   "id": "cad30b5cf1b38249"
  },
  {
   "cell_type": "markdown",
   "source": [
    "### 2. Initialiser X (predictors, variable indépendante) par la variable TV et y (cible, variable dépendante)."
   ],
   "metadata": {
    "collapsed": false
   },
   "id": "58cc2e1ac8eb20e4"
  },
  {
   "cell_type": "code",
   "execution_count": 5,
   "outputs": [],
   "source": [
    "X = pd.DataFrame(data['TV'])\n",
    "y = pd.DataFrame(data['Sales'])"
   ],
   "metadata": {
    "collapsed": false,
    "ExecuteTime": {
     "end_time": "2023-11-14T17:02:18.240917800Z",
     "start_time": "2023-11-14T17:02:18.218400300Z"
    }
   },
   "id": "7ec42ecf1772846f"
  },
  {
   "cell_type": "code",
   "execution_count": 6,
   "outputs": [
    {
     "data": {
      "text/plain": "(200, 1)"
     },
     "execution_count": 6,
     "metadata": {},
     "output_type": "execute_result"
    }
   ],
   "source": [
    "X.shape"
   ],
   "metadata": {
    "collapsed": false,
    "ExecuteTime": {
     "end_time": "2023-11-14T17:02:18.242989200Z",
     "start_time": "2023-11-14T17:02:18.225560500Z"
    }
   },
   "id": "24b3afd58332b40c"
  },
  {
   "cell_type": "code",
   "execution_count": 7,
   "outputs": [
    {
     "data": {
      "text/plain": "(200, 1)"
     },
     "execution_count": 7,
     "metadata": {},
     "output_type": "execute_result"
    }
   ],
   "source": [
    "y.shape"
   ],
   "metadata": {
    "collapsed": false,
    "ExecuteTime": {
     "end_time": "2023-11-14T17:02:18.257641400Z",
     "start_time": "2023-11-14T17:02:18.236405100Z"
    }
   },
   "id": "f307481da7e8c514"
  },
  {
   "cell_type": "markdown",
   "source": [
    "### 3. Pourquoi il s’agit d’un problème de régression ?"
   ],
   "metadata": {
    "collapsed": false
   },
   "id": "e3a5b1b902d0d185"
  },
  {
   "cell_type": "markdown",
   "source": [
    "Parce que la variable cible est *continue*."
   ],
   "metadata": {
    "collapsed": false
   },
   "id": "7565f43433004e68"
  },
  {
   "cell_type": "markdown",
   "source": [
    "### 4. Visualiser la base de données avec matplotlib."
   ],
   "metadata": {
    "collapsed": false
   },
   "id": "cbb6bba8901dd6bb"
  },
  {
   "cell_type": "code",
   "execution_count": 8,
   "outputs": [],
   "source": [
    "import matplotlib.pyplot as plt"
   ],
   "metadata": {
    "collapsed": false,
    "ExecuteTime": {
     "end_time": "2023-11-14T17:02:18.264553900Z",
     "start_time": "2023-11-14T17:02:18.241917900Z"
    }
   },
   "id": "7d7686b532bdc8e7"
  },
  {
   "cell_type": "code",
   "execution_count": 9,
   "outputs": [
    {
     "data": {
      "text/plain": "<Figure size 640x480 with 1 Axes>",
      "image/png": "[encoded data removed]"
     },
     "metadata": {},
     "output_type": "display_data"
    }
   ],
   "source": [
    "plt.scatter(X, y)\n",
    "plt.xlabel('TV')\n",
    "plt.ylabel('Sales')\n",
    "plt.show()"
   ],
   "metadata": {
    "collapsed": false,
    "ExecuteTime": {
     "end_time": "2023-11-14T17:02:18.573459400Z",
     "start_time": "2023-11-14T17:02:18.247503900Z"
    }
   },
   "id": "818ea147a8856ab5"
  },
  {
   "cell_type": "markdown",
   "source": [
    "### 5. Soit le modèle de régression linéaire simple définit par: $y= w0 + w1 x$"
   ],
   "metadata": {
    "collapsed": false
   },
   "id": "d0cf542cf237d596"
  },
  {
   "cell_type": "markdown",
   "source": [
    "#### 5.1. À l’aide de train test split de sklearn.model selection, diviser la base de données en base d’apprentissage et base de test (80% pour la base d’apprentissage et 20% pour la base de test )"
   ],
   "metadata": {
    "collapsed": false
   },
   "id": "213ef63278aa90e"
  },
  {
   "cell_type": "code",
   "execution_count": 10,
   "outputs": [],
   "source": [
    "import sklearn.model_selection as model_selection"
   ],
   "metadata": {
    "collapsed": false,
    "ExecuteTime": {
     "end_time": "2023-11-14T17:02:19.174954300Z",
     "start_time": "2023-11-14T17:02:18.532865300Z"
    }
   },
   "id": "f0863f9a79b5bf6"
  },
  {
   "cell_type": "code",
   "execution_count": 11,
   "outputs": [],
   "source": [
    "X_train, X_test, y_train, y_test = model_selection.train_test_split(X, y, train_size=0.8, test_size=0.2, random_state=0)"
   ],
   "metadata": {
    "collapsed": false,
    "ExecuteTime": {
     "end_time": "2023-11-14T17:02:19.175964900Z",
     "start_time": "2023-11-14T17:02:19.144431Z"
    }
   },
   "id": "457b4eb101be174f"
  },
  {
   "cell_type": "code",
   "execution_count": 12,
   "outputs": [
    {
     "data": {
      "text/plain": "        TV\n134   36.9\n66    31.5\n26   142.9\n113  209.6\n168  215.4",
      "text/html": "<div>\n<style scoped>\n    .dataframe tbody tr th:only-of-type {\n        vertical-align: middle;\n    }\n\n    .dataframe tbody tr th {\n        vertical-align: top;\n    }\n\n    .dataframe thead th {\n        text-align: right;\n    }\n</style>\n<table border=\"1\" class=\"dataframe\">\n  <thead>\n    <tr style=\"text-align: right;\">\n      <th></th>\n      <th>TV</th>\n    </tr>\n  </thead>\n  <tbody>\n    <tr>\n      <th>134</th>\n      <td>36.9</td>\n    </tr>\n    <tr>\n      <th>66</th>\n      <td>31.5</td>\n    </tr>\n    <tr>\n      <th>26</th>\n      <td>142.9</td>\n    </tr>\n    <tr>\n      <th>113</th>\n      <td>209.6</td>\n    </tr>\n    <tr>\n      <th>168</th>\n      <td>215.4</td>\n    </tr>\n  </tbody>\n</table>\n</div>"
     },
     "execution_count": 12,
     "metadata": {},
     "output_type": "execute_result"
    }
   ],
   "source": [
    "X_train.head()"
   ],
   "metadata": {
    "collapsed": false,
    "ExecuteTime": {
     "end_time": "2023-11-14T17:02:19.177471300Z",
     "start_time": "2023-11-14T17:02:19.151479200Z"
    }
   },
   "id": "e02c21444dbddea1"
  },
  {
   "cell_type": "markdown",
   "source": [
    "#### 5.2. Définir une fonction MSE(X,y,W) qui retourne la moyenne des erreurs entre la valeur théorique et la valeur réelle. "
   ],
   "metadata": {
    "collapsed": false
   },
   "id": "7dc6fb1d8590769"
  },
  {
   "cell_type": "code",
   "execution_count": 13,
   "outputs": [],
   "source": [
    "import numpy as np"
   ],
   "metadata": {
    "collapsed": false,
    "ExecuteTime": {
     "end_time": "2023-11-14T17:02:19.179481300Z",
     "start_time": "2023-11-14T17:02:19.160029Z"
    }
   },
   "id": "f24be2c8e6beb65f"
  },
  {
   "cell_type": "code",
   "execution_count": 13,
   "outputs": [],
   "source": [],
   "metadata": {
    "collapsed": false,
    "ExecuteTime": {
     "end_time": "2023-11-14T17:02:19.179481300Z",
     "start_time": "2023-11-14T17:02:19.165786Z"
    }
   },
   "id": "f72d9f4792fabeb4"
  },
  {
   "cell_type": "code",
   "execution_count": 21,
   "outputs": [],
   "source": [
    "def MSE(X,y,W):\n",
    "    \"\"\"\n",
    "    X : matrice de données\n",
    "    y : vecteur de valeurs cibles\n",
    "    W : vecteur de poids\n",
    "    \"\"\"\n",
    "    print(X.shape)\n",
    "    print(W.shape)\n",
    "    y_hat = X.dot(W) # y_hat = w0 + w1*x \n",
    "    m = X.shape[0] # nombre d'observations\n",
    "    return 1/(2*m) * np.sum((y_hat - y)**2)"
   ],
   "metadata": {
    "collapsed": false,
    "ExecuteTime": {
     "end_time": "2023-11-14T17:02:45.670338700Z",
     "start_time": "2023-11-14T17:02:45.658222900Z"
    }
   },
   "id": "f51c21f6b3737939"
  },
  {
   "cell_type": "markdown",
   "source": [
    "#### 5.3.Définir la fonction Gradient(X,y,W). "
   ],
   "metadata": {
    "collapsed": false
   },
   "id": "c7b68007cbe2a522"
  },
  {
   "cell_type": "code",
   "execution_count": 22,
   "outputs": [],
   "source": [
    "def Gradient(X,y,W):\n",
    "    \"\"\"\n",
    "    X : matrice de données\n",
    "    y : vecteur de valeurs cibles\n",
    "    W : vecteur de poids w0 et w1\n",
    "    \"\"\"\n",
    " \n",
    "    print(X.shape)\n",
    "    #print(W.shape)\n",
    "    \n",
    "    y_hat = X.dot(W) # y_hat = w0 + w1*x\n",
    "    m = X.shape[0] # nombre d'observations\n",
    "    gradient = 1/m * X.T.dot(y_hat - y)\n",
    "\n",
    "    return gradient"
   ],
   "metadata": {
    "collapsed": false,
    "ExecuteTime": {
     "end_time": "2023-11-14T17:02:46.313371Z",
     "start_time": "2023-11-14T17:02:46.300360500Z"
    }
   },
   "id": "fa0850e290a3a9f1"
  },
  {
   "cell_type": "markdown",
   "source": [
    "#### 5.4. Etablir une fonction de mise à jour des paramètres W MiseJour(grad,W,alpha)."
   ],
   "metadata": {
    "collapsed": false
   },
   "id": "d59a6885b55af0c6"
  },
  {
   "cell_type": "code",
   "execution_count": 23,
   "outputs": [],
   "source": [
    "def MiseJour(grad,W,alpha):\n",
    "    \"\"\"\n",
    "    grad : vecteur de gradient\n",
    "    W : vecteur de poids w0 et w1\n",
    "    alpha : taux d'apprentissage\n",
    "    \"\"\"\n",
    "    return W - alpha * grad"
   ],
   "metadata": {
    "collapsed": false,
    "ExecuteTime": {
     "end_time": "2023-11-14T17:02:46.827529100Z",
     "start_time": "2023-11-14T17:02:46.786337300Z"
    }
   },
   "id": "7c445098fe1bc95b"
  },
  {
   "cell_type": "markdown",
   "source": [
    "#### 5.5. Ecrire la fonction Batch Gradient Descent(X,y,W,N max,alpha,eps), qui retourne les meilleurs paramètres estimés et de plus affiche l’évolution de MSE après chaque itération."
   ],
   "metadata": {
    "collapsed": false
   },
   "id": "d04dd7693970bc63"
  },
  {
   "cell_type": "code",
   "execution_count": 24,
   "outputs": [],
   "source": [
    "def Batch_Gradient_Descent(X,y,W,N_max,alpha,eps):\n",
    "    \"\"\"\n",
    "    X : matrice de données\n",
    "    y : vecteur de valeurs cibles\n",
    "    W : vecteur de poids w0 et w1\n",
    "    N_max : nombre d'itérations maximum\n",
    "    alpha : taux d'apprentissage\n",
    "    eps : seuil de tolérance\n",
    "    \"\"\"\n",
    "    \n",
    "    W_n= np.array(W) # on transforme W en array\n",
    "    \n",
    "    MSE_list = []\n",
    "    for i in range(N_max):\n",
    "        # Calcul du gradient\n",
    "        grad = Gradient(X,y,W)\n",
    "        \n",
    "        \n",
    "        W_n = MiseJour(grad,W,alpha)\n",
    "        MSE_list.append(MSE(X,y,W_n))\n",
    "        \n",
    "        # Si la différence entre deux MSE successifs est inférieure à eps, on arrête\n",
    "        if i > 0 and abs(MSE_list[i] - MSE_list[i-1]) < eps:\n",
    "            break\n",
    "            \n",
    "    return W_n, MSE_list"
   ],
   "metadata": {
    "collapsed": false,
    "ExecuteTime": {
     "end_time": "2023-11-14T17:02:47.245689200Z",
     "start_time": "2023-11-14T17:02:47.235178600Z"
    }
   },
   "id": "99e9cdfe6a548591"
  },
  {
   "cell_type": "markdown",
   "source": [
    "#### 5.6. Tester la fonction Batch Gradient Descent(X,y,W,N max,alpha,eps) avec les paramètres suivants: N max = 100, alpha = 0.1, eps = 1e-6."
   ],
   "metadata": {
    "collapsed": false
   },
   "id": "b15c3b190533e621"
  },
  {
   "cell_type": "code",
   "execution_count": 25,
   "outputs": [],
   "source": [
    "# Initialiser les pondérations\n",
    "def init_weights(X):\n",
    "    \"\"\"\n",
    "    X : matrice de données\n",
    "    \"\"\"\n",
    "    return np.zeros((1, X.shape[1]+1))"
   ],
   "metadata": {
    "collapsed": false,
    "ExecuteTime": {
     "end_time": "2023-11-14T17:02:47.934910Z",
     "start_time": "2023-11-14T17:02:47.914669900Z"
    }
   },
   "id": "560593bbce1f73ba"
  },
  {
   "cell_type": "code",
   "execution_count": 28,
   "outputs": [],
   "source": [
    "# Générer les pondérations initiales\n",
    "w=init_weights(X_train)"
   ],
   "metadata": {
    "collapsed": false,
    "ExecuteTime": {
     "end_time": "2023-11-14T17:03:25.930687100Z",
     "start_time": "2023-11-14T17:03:25.908808100Z"
    }
   },
   "id": "edae365d7d8a3206"
  },
  {
   "cell_type": "code",
   "execution_count": 30,
   "outputs": [
    {
     "name": "stdout",
     "output_type": "stream",
     "text": [
      "(160, 1)\n"
     ]
    },
    {
     "ename": "ValueError",
     "evalue": "Unable to coerce to DataFrame, shape must be (1, 3): given (1, 2)",
     "output_type": "error",
     "traceback": [
      "\u001B[1;31m---------------------------------------------------------------------------\u001B[0m",
      "\u001B[1;31mValueError\u001B[0m                                Traceback (most recent call last)",
      "Cell \u001B[1;32mIn[30], line 1\u001B[0m\n\u001B[1;32m----> 1\u001B[0m b, MSE_list \u001B[38;5;241m=\u001B[39m Batch_Gradient_Descent(X_train,y_train,w,\u001B[38;5;241m50\u001B[39m,\u001B[38;5;241m0.1\u001B[39m,\u001B[38;5;241m1e-6\u001B[39m)\n",
      "Cell \u001B[1;32mIn[24], line 19\u001B[0m, in \u001B[0;36mBatch_Gradient_Descent\u001B[1;34m(X, y, W, N_max, alpha, eps)\u001B[0m\n\u001B[0;32m     14\u001B[0m \u001B[38;5;28;01mfor\u001B[39;00m i \u001B[38;5;129;01min\u001B[39;00m \u001B[38;5;28mrange\u001B[39m(N_max):\n\u001B[0;32m     15\u001B[0m     \u001B[38;5;66;03m# Calcul du gradient\u001B[39;00m\n\u001B[0;32m     16\u001B[0m     grad \u001B[38;5;241m=\u001B[39m Gradient(X,y,W)\n\u001B[1;32m---> 19\u001B[0m     W_n \u001B[38;5;241m=\u001B[39m MiseJour(grad,W,alpha)\n\u001B[0;32m     20\u001B[0m     MSE_list\u001B[38;5;241m.\u001B[39mappend(MSE(X,y,W_n))\n\u001B[0;32m     22\u001B[0m     \u001B[38;5;66;03m# Si la différence entre deux MSE successifs est inférieure à eps, on arrête\u001B[39;00m\n",
      "Cell \u001B[1;32mIn[23], line 7\u001B[0m, in \u001B[0;36mMiseJour\u001B[1;34m(grad, W, alpha)\u001B[0m\n\u001B[0;32m      1\u001B[0m \u001B[38;5;28;01mdef\u001B[39;00m \u001B[38;5;21mMiseJour\u001B[39m(grad,W,alpha):\n\u001B[0;32m      2\u001B[0m \u001B[38;5;250m    \u001B[39m\u001B[38;5;124;03m\"\"\"\u001B[39;00m\n\u001B[0;32m      3\u001B[0m \u001B[38;5;124;03m    grad : vecteur de gradient\u001B[39;00m\n\u001B[0;32m      4\u001B[0m \u001B[38;5;124;03m    W : vecteur de poids w0 et w1\u001B[39;00m\n\u001B[0;32m      5\u001B[0m \u001B[38;5;124;03m    alpha : taux d'apprentissage\u001B[39;00m\n\u001B[0;32m      6\u001B[0m \u001B[38;5;124;03m    \"\"\"\u001B[39;00m\n\u001B[1;32m----> 7\u001B[0m     \u001B[38;5;28;01mreturn\u001B[39;00m W \u001B[38;5;241m-\u001B[39m alpha \u001B[38;5;241m*\u001B[39m grad\n",
      "File \u001B[1;32mC:\\ProgramData\\anaconda3\\Lib\\site-packages\\pandas\\core\\generic.py:2113\u001B[0m, in \u001B[0;36mNDFrame.__array_ufunc__\u001B[1;34m(self, ufunc, method, *inputs, **kwargs)\u001B[0m\n\u001B[0;32m   2109\u001B[0m \u001B[38;5;129m@final\u001B[39m\n\u001B[0;32m   2110\u001B[0m \u001B[38;5;28;01mdef\u001B[39;00m \u001B[38;5;21m__array_ufunc__\u001B[39m(\n\u001B[0;32m   2111\u001B[0m     \u001B[38;5;28mself\u001B[39m, ufunc: np\u001B[38;5;241m.\u001B[39mufunc, method: \u001B[38;5;28mstr\u001B[39m, \u001B[38;5;241m*\u001B[39minputs: Any, \u001B[38;5;241m*\u001B[39m\u001B[38;5;241m*\u001B[39mkwargs: Any\n\u001B[0;32m   2112\u001B[0m ):\n\u001B[1;32m-> 2113\u001B[0m     \u001B[38;5;28;01mreturn\u001B[39;00m arraylike\u001B[38;5;241m.\u001B[39marray_ufunc(\u001B[38;5;28mself\u001B[39m, ufunc, method, \u001B[38;5;241m*\u001B[39minputs, \u001B[38;5;241m*\u001B[39m\u001B[38;5;241m*\u001B[39mkwargs)\n",
      "File \u001B[1;32mC:\\ProgramData\\anaconda3\\Lib\\site-packages\\pandas\\core\\arraylike.py:265\u001B[0m, in \u001B[0;36marray_ufunc\u001B[1;34m(self, ufunc, method, *inputs, **kwargs)\u001B[0m\n\u001B[0;32m    262\u001B[0m     \u001B[38;5;28;01mreturn\u001B[39;00m result\n\u001B[0;32m    264\u001B[0m \u001B[38;5;66;03m# for binary ops, use our custom dunder methods\u001B[39;00m\n\u001B[1;32m--> 265\u001B[0m result \u001B[38;5;241m=\u001B[39m maybe_dispatch_ufunc_to_dunder_op(\u001B[38;5;28mself\u001B[39m, ufunc, method, \u001B[38;5;241m*\u001B[39minputs, \u001B[38;5;241m*\u001B[39m\u001B[38;5;241m*\u001B[39mkwargs)\n\u001B[0;32m    266\u001B[0m \u001B[38;5;28;01mif\u001B[39;00m result \u001B[38;5;129;01mis\u001B[39;00m \u001B[38;5;129;01mnot\u001B[39;00m \u001B[38;5;28mNotImplemented\u001B[39m:\n\u001B[0;32m    267\u001B[0m     \u001B[38;5;28;01mreturn\u001B[39;00m result\n",
      "File \u001B[1;32mC:\\ProgramData\\anaconda3\\Lib\\site-packages\\pandas\\_libs\\ops_dispatch.pyx:113\u001B[0m, in \u001B[0;36mpandas._libs.ops_dispatch.maybe_dispatch_ufunc_to_dunder_op\u001B[1;34m()\u001B[0m\n",
      "File \u001B[1;32mC:\\ProgramData\\anaconda3\\Lib\\site-packages\\pandas\\core\\ops\\common.py:72\u001B[0m, in \u001B[0;36m_unpack_zerodim_and_defer.<locals>.new_method\u001B[1;34m(self, other)\u001B[0m\n\u001B[0;32m     68\u001B[0m             \u001B[38;5;28;01mreturn\u001B[39;00m \u001B[38;5;28mNotImplemented\u001B[39m\n\u001B[0;32m     70\u001B[0m other \u001B[38;5;241m=\u001B[39m item_from_zerodim(other)\n\u001B[1;32m---> 72\u001B[0m \u001B[38;5;28;01mreturn\u001B[39;00m method(\u001B[38;5;28mself\u001B[39m, other)\n",
      "File \u001B[1;32mC:\\ProgramData\\anaconda3\\Lib\\site-packages\\pandas\\core\\arraylike.py:114\u001B[0m, in \u001B[0;36mOpsMixin.__rsub__\u001B[1;34m(self, other)\u001B[0m\n\u001B[0;32m    112\u001B[0m \u001B[38;5;129m@unpack_zerodim_and_defer\u001B[39m(\u001B[38;5;124m\"\u001B[39m\u001B[38;5;124m__rsub__\u001B[39m\u001B[38;5;124m\"\u001B[39m)\n\u001B[0;32m    113\u001B[0m \u001B[38;5;28;01mdef\u001B[39;00m \u001B[38;5;21m__rsub__\u001B[39m(\u001B[38;5;28mself\u001B[39m, other):\n\u001B[1;32m--> 114\u001B[0m     \u001B[38;5;28;01mreturn\u001B[39;00m \u001B[38;5;28mself\u001B[39m\u001B[38;5;241m.\u001B[39m_arith_method(other, roperator\u001B[38;5;241m.\u001B[39mrsub)\n",
      "File \u001B[1;32mC:\\ProgramData\\anaconda3\\Lib\\site-packages\\pandas\\core\\frame.py:7592\u001B[0m, in \u001B[0;36mDataFrame._arith_method\u001B[1;34m(self, other, op)\u001B[0m\n\u001B[0;32m   7589\u001B[0m axis \u001B[38;5;241m=\u001B[39m \u001B[38;5;241m1\u001B[39m  \u001B[38;5;66;03m# only relevant for Series other case\u001B[39;00m\n\u001B[0;32m   7590\u001B[0m other \u001B[38;5;241m=\u001B[39m ops\u001B[38;5;241m.\u001B[39mmaybe_prepare_scalar_for_op(other, (\u001B[38;5;28mself\u001B[39m\u001B[38;5;241m.\u001B[39mshape[axis],))\n\u001B[1;32m-> 7592\u001B[0m \u001B[38;5;28mself\u001B[39m, other \u001B[38;5;241m=\u001B[39m ops\u001B[38;5;241m.\u001B[39malign_method_FRAME(\u001B[38;5;28mself\u001B[39m, other, axis, flex\u001B[38;5;241m=\u001B[39m\u001B[38;5;28;01mTrue\u001B[39;00m, level\u001B[38;5;241m=\u001B[39m\u001B[38;5;28;01mNone\u001B[39;00m)\n\u001B[0;32m   7594\u001B[0m new_data \u001B[38;5;241m=\u001B[39m \u001B[38;5;28mself\u001B[39m\u001B[38;5;241m.\u001B[39m_dispatch_frame_op(other, op, axis\u001B[38;5;241m=\u001B[39maxis)\n\u001B[0;32m   7595\u001B[0m \u001B[38;5;28;01mreturn\u001B[39;00m \u001B[38;5;28mself\u001B[39m\u001B[38;5;241m.\u001B[39m_construct_result(new_data)\n",
      "File \u001B[1;32mC:\\ProgramData\\anaconda3\\Lib\\site-packages\\pandas\\core\\ops\\__init__.py:264\u001B[0m, in \u001B[0;36malign_method_FRAME\u001B[1;34m(left, right, axis, flex, level)\u001B[0m\n\u001B[0;32m    261\u001B[0m         right \u001B[38;5;241m=\u001B[39m to_series(right[\u001B[38;5;241m0\u001B[39m, :])\n\u001B[0;32m    263\u001B[0m     \u001B[38;5;28;01melse\u001B[39;00m:\n\u001B[1;32m--> 264\u001B[0m         \u001B[38;5;28;01mraise\u001B[39;00m \u001B[38;5;167;01mValueError\u001B[39;00m(\n\u001B[0;32m    265\u001B[0m             \u001B[38;5;124m\"\u001B[39m\u001B[38;5;124mUnable to coerce to DataFrame, shape \u001B[39m\u001B[38;5;124m\"\u001B[39m\n\u001B[0;32m    266\u001B[0m             \u001B[38;5;124mf\u001B[39m\u001B[38;5;124m\"\u001B[39m\u001B[38;5;124mmust be \u001B[39m\u001B[38;5;132;01m{\u001B[39;00mleft\u001B[38;5;241m.\u001B[39mshape\u001B[38;5;132;01m}\u001B[39;00m\u001B[38;5;124m: given \u001B[39m\u001B[38;5;132;01m{\u001B[39;00mright\u001B[38;5;241m.\u001B[39mshape\u001B[38;5;132;01m}\u001B[39;00m\u001B[38;5;124m\"\u001B[39m\n\u001B[0;32m    267\u001B[0m         )\n\u001B[0;32m    269\u001B[0m \u001B[38;5;28;01melif\u001B[39;00m right\u001B[38;5;241m.\u001B[39mndim \u001B[38;5;241m>\u001B[39m \u001B[38;5;241m2\u001B[39m:\n\u001B[0;32m    270\u001B[0m     \u001B[38;5;28;01mraise\u001B[39;00m \u001B[38;5;167;01mValueError\u001B[39;00m(\n\u001B[0;32m    271\u001B[0m         \u001B[38;5;124m\"\u001B[39m\u001B[38;5;124mUnable to coerce to Series/DataFrame, \u001B[39m\u001B[38;5;124m\"\u001B[39m\n\u001B[0;32m    272\u001B[0m         \u001B[38;5;124mf\u001B[39m\u001B[38;5;124m\"\u001B[39m\u001B[38;5;124mdimension must be <= 2: \u001B[39m\u001B[38;5;132;01m{\u001B[39;00mright\u001B[38;5;241m.\u001B[39mshape\u001B[38;5;132;01m}\u001B[39;00m\u001B[38;5;124m\"\u001B[39m\n\u001B[0;32m    273\u001B[0m     )\n",
      "\u001B[1;31mValueError\u001B[0m: Unable to coerce to DataFrame, shape must be (1, 3): given (1, 2)"
     ]
    }
   ],
   "source": [
    "b, MSE_list = Batch_Gradient_Descent(X_train,y_train,w,50,0.1,1e-6)"
   ],
   "metadata": {
    "collapsed": false,
    "ExecuteTime": {
     "end_time": "2023-11-14T17:03:41.897253800Z",
     "start_time": "2023-11-14T17:03:40.323165900Z"
    }
   },
   "id": "62ffec944823e81e"
  },
  {
   "cell_type": "code",
   "execution_count": null,
   "outputs": [],
   "source": [],
   "metadata": {
    "collapsed": false
   },
   "id": "bdba7a914f475b8a"
  }
 ],
 "metadata": {
  "kernelspec": {
   "display_name": "Python 3",
   "language": "python",
   "name": "python3"
  },
  "language_info": {
   "codemirror_mode": {
    "name": "ipython",
    "version": 2
   },
   "file_extension": ".py",
   "mimetype": "text/x-python",
   "name": "python",
   "nbconvert_exporter": "python",
   "pygments_lexer": "ipython2",
   "version": "2.7.6"
  }
 },
 "nbformat": 4,
 "nbformat_minor": 5
}

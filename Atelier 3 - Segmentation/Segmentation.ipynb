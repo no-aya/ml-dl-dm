{
 "cells": [
  {
   "cell_type": "markdown",
   "source": [
    " # Apprentissage non supervisé : Segmentation "
   ],
   "metadata": {
    "collapsed": false
   },
   "id": "41f96fc9c70062b8"
  },
  {
   "cell_type": "code",
   "execution_count": 1,
   "outputs": [],
   "source": [
    "import numpy as np  \n",
    "import seaborn as sns\n",
    "from sklearn.datasets import make_blobs\n",
    "from scipy.spatial import distance"
   ],
   "metadata": {
    "collapsed": false,
    "ExecuteTime": {
     "end_time": "2023-11-08T10:37:41.068663900Z",
     "start_time": "2023-11-08T10:37:40.699054Z"
    }
   },
   "id": "cbaadd06c04457fb"
  },
  {
   "cell_type": "markdown",
   "source": [
    "> L 'objectif est de :\n",
    "> 1. Intertie totale de dataset \n",
    "> 2. Creer une liste de groupes\n",
    "> 3. L'inerie intra classe\n",
    "> 4. L'inertie inter classe\n",
    "> 5. L'inertie totale = inertie intra classe + inertie inter classe\n",
    "> 6. Refaire le calcule sur le dataset avec différents centres [[0,0],[1,1]]\n",
    "> 7. Comparer les résultats obtenus"
   ],
   "metadata": {
    "collapsed": false
   },
   "id": "5e9c46469afa4555"
  },
  {
   "cell_type": "code",
   "execution_count": 2,
   "outputs": [],
   "source": [
    "# Initialisation des données\n",
    "centres = [[1,2],[7,8]]\n",
    "data,label = make_blobs(n_samples=10, centers=centres,random_state=0)"
   ],
   "metadata": {
    "collapsed": false,
    "ExecuteTime": {
     "end_time": "2023-11-08T10:37:41.090515200Z",
     "start_time": "2023-11-08T10:37:41.072896300Z"
    }
   },
   "id": "476f26489b1acc6"
  },
  {
   "cell_type": "code",
   "execution_count": 3,
   "outputs": [
    {
     "data": {
      "text/plain": "<AxesSubplot: >"
     },
     "execution_count": 3,
     "metadata": {},
     "output_type": "execute_result"
    },
    {
     "data": {
      "text/plain": "<Figure size 640x480 with 1 Axes>",
      "image/png": "[encoded data removed]"
     },
     "metadata": {},
     "output_type": "display_data"
    }
   ],
   "source": [
    "sns.scatterplot(\n",
    "    x=[x[0] for x in data],\n",
    "    y=[x[1] for x in data],\n",
    "    hue=label\n",
    ")"
   ],
   "metadata": {
    "collapsed": false,
    "ExecuteTime": {
     "end_time": "2023-11-08T10:37:41.432193300Z",
     "start_time": "2023-11-08T10:37:41.079423600Z"
    }
   },
   "id": "4095a3631c429d09"
  },
  {
   "cell_type": "markdown",
   "source": [
    "## 1. Intertie totale de dataset"
   ],
   "metadata": {
    "collapsed": false
   },
   "id": "5f2cf1dc32adc04a"
  },
  {
   "cell_type": "code",
   "execution_count": 4,
   "id": "initial_id",
   "metadata": {
    "collapsed": true,
    "ExecuteTime": {
     "end_time": "2023-11-08T10:37:41.462475700Z",
     "start_time": "2023-11-08T10:37:41.434508200Z"
    }
   },
   "outputs": [],
   "source": [
    "def inertie_totale(data):\n",
    "    g=np.mean(data,axis=0)\n",
    "    total = 0\n",
    "    for i in range(len(data)):\n",
    "        total += distance.euclidean(data[i], g)**2\n",
    "    total/=len(data)\n",
    "    return total\n"
   ]
  },
  {
   "cell_type": "code",
   "execution_count": 5,
   "outputs": [
    {
     "data": {
      "text/plain": "17.25083494595461"
     },
     "execution_count": 5,
     "metadata": {},
     "output_type": "execute_result"
    }
   ],
   "source": [
    "inertie_totale(data)"
   ],
   "metadata": {
    "collapsed": false,
    "ExecuteTime": {
     "end_time": "2023-11-08T10:37:41.462984800Z",
     "start_time": "2023-11-08T10:37:41.439035Z"
    }
   },
   "id": "214b2e1d9cb600e7"
  },
  {
   "cell_type": "markdown",
   "source": [
    "## 2. Creer une liste de groupes"
   ],
   "metadata": {
    "collapsed": false
   },
   "id": "bc7f8411ce2a239e"
  },
  {
   "cell_type": "code",
   "execution_count": 6,
   "outputs": [],
   "source": [
    "def groupe(data):\n",
    "    groupe_0=[]\n",
    "    groupe_1=[]\n",
    "    for i in range(len(data)):\n",
    "        if label[i]==0 :\n",
    "            groupe_0.append(data[i])\n",
    "        else :\n",
    "            groupe_1.append(data[i])\n",
    "    return groupe_0,groupe_1"
   ],
   "metadata": {
    "collapsed": false,
    "ExecuteTime": {
     "end_time": "2023-11-08T10:37:41.590536100Z",
     "start_time": "2023-11-08T10:37:41.450514Z"
    }
   },
   "id": "69a7fc71b65c96e8"
  },
  {
   "cell_type": "code",
   "execution_count": 7,
   "outputs": [],
   "source": [
    "def regroupement(data,labels):\n",
    "    liste=[[] for _ in range(len(np.unique(labels)))]\n",
    "    for i in range(data.shape[0]):\n",
    "        liste[labels[i]].append(data[i])\n",
    "    return liste"
   ],
   "metadata": {
    "collapsed": false,
    "ExecuteTime": {
     "end_time": "2023-11-08T10:37:41.600480100Z",
     "start_time": "2023-11-08T10:37:41.460660400Z"
    }
   },
   "id": "c23f82da0b5ed434"
  },
  {
   "cell_type": "code",
   "execution_count": 8,
   "outputs": [],
   "source": [
    "cluster=regroupement(data,label)"
   ],
   "metadata": {
    "collapsed": false,
    "ExecuteTime": {
     "end_time": "2023-11-08T10:37:41.600986Z",
     "start_time": "2023-11-08T10:37:41.465993500Z"
    }
   },
   "id": "22cecefa5d584166"
  },
  {
   "cell_type": "code",
   "execution_count": 9,
   "outputs": [
    {
     "data": {
      "text/plain": "[[array([1.97873798, 4.2408932 ]),\n  array([1.95008842, 1.84864279]),\n  array([0.89678115, 2.4105985 ]),\n  array([2.86755799, 1.02272212]),\n  array([2.76405235, 2.40015721])],\n [array([8.49407907, 7.79484174]),\n  array([7.14404357, 9.45427351]),\n  array([7.76103773, 8.12167502]),\n  array([7.44386323, 8.33367433]),\n  array([7.3130677 , 7.14590426])]]"
     },
     "execution_count": 9,
     "metadata": {},
     "output_type": "execute_result"
    }
   ],
   "source": [
    "cluster"
   ],
   "metadata": {
    "collapsed": false,
    "ExecuteTime": {
     "end_time": "2023-11-08T10:37:41.600986Z",
     "start_time": "2023-11-08T10:37:41.484723800Z"
    }
   },
   "id": "7a8905b37b8e198c"
  },
  {
   "cell_type": "code",
   "execution_count": 10,
   "outputs": [],
   "source": [
    "grp0,grp1=groupe(data)"
   ],
   "metadata": {
    "collapsed": false,
    "ExecuteTime": {
     "end_time": "2023-11-08T10:37:41.600986Z",
     "start_time": "2023-11-08T10:37:41.493643800Z"
    }
   },
   "id": "8e210c8d8ccee4f5"
  },
  {
   "cell_type": "code",
   "execution_count": 11,
   "outputs": [
    {
     "data": {
      "text/plain": "<AxesSubplot: >"
     },
     "execution_count": 11,
     "metadata": {},
     "output_type": "execute_result"
    },
    {
     "data": {
      "text/plain": "<Figure size 640x480 with 1 Axes>",
      "image/png": "[encoded data removed]"
     },
     "metadata": {},
     "output_type": "display_data"
    }
   ],
   "source": [
    "sns.scatterplot(\n",
    "    x=[x[0] for x in grp0],\n",
    "    y=[x[1] for x in grp0],\n",
    "    color='red'\n",
    ")\n",
    "sns.scatterplot(\n",
    "    x=[x[0] for x in grp1],\n",
    "    y=[x[1] for x in grp1],\n",
    "    color='blue'\n",
    ")"
   ],
   "metadata": {
    "collapsed": false,
    "ExecuteTime": {
     "end_time": "2023-11-08T10:37:41.749606400Z",
     "start_time": "2023-11-08T10:37:41.497152400Z"
    }
   },
   "id": "672f2bdf624eec7a"
  },
  {
   "cell_type": "markdown",
   "source": [
    "## 3. L'inerie intra classe"
   ],
   "metadata": {
    "collapsed": false
   },
   "id": "6fb9e34d88493782"
  },
  {
   "cell_type": "code",
   "execution_count": 12,
   "outputs": [],
   "source": [
    "def inertie_intra_classe(cluster) :\n",
    "    return inertie_totale(cluster[0])+inertie_totale(cluster[1])"
   ],
   "metadata": {
    "collapsed": false,
    "ExecuteTime": {
     "end_time": "2023-11-08T10:37:41.750603700Z",
     "start_time": "2023-11-08T10:37:41.735411200Z"
    }
   },
   "id": "8af26aefd07bf43f"
  },
  {
   "cell_type": "code",
   "execution_count": 13,
   "outputs": [],
   "source": [
    "def intra_class(cluster):\n",
    "    i=0\n",
    "    for cl in cluster:\n",
    "        ic=0\n",
    "        for x in cl:\n",
    "            ic+=distance.euclidean(x,np.mean(cl,axis=0))**2\n",
    "        i=i+ic/len(cl)\n",
    "    return i/len(cluster)"
   ],
   "metadata": {
    "collapsed": false,
    "ExecuteTime": {
     "end_time": "2023-11-08T10:37:41.750603700Z",
     "start_time": "2023-11-08T10:37:41.742531200Z"
    }
   },
   "id": "60b6cce650042fd5"
  },
  {
   "cell_type": "code",
   "execution_count": 20,
   "outputs": [
    {
     "data": {
      "text/plain": "1.2106403714915754"
     },
     "execution_count": 20,
     "metadata": {},
     "output_type": "execute_result"
    }
   ],
   "source": [
    "intra_class(cluster)"
   ],
   "metadata": {
    "collapsed": false,
    "ExecuteTime": {
     "end_time": "2023-11-08T10:38:01.311422900Z",
     "start_time": "2023-11-08T10:38:01.281926600Z"
    }
   },
   "id": "2db1c10bbd854148"
  },
  {
   "cell_type": "code",
   "execution_count": 14,
   "outputs": [
    {
     "data": {
      "text/plain": "2.421280742983151"
     },
     "execution_count": 14,
     "metadata": {},
     "output_type": "execute_result"
    }
   ],
   "source": [
    "inertie_intra_classe(cluster)"
   ],
   "metadata": {
    "collapsed": false,
    "ExecuteTime": {
     "end_time": "2023-11-08T10:37:41.781653700Z",
     "start_time": "2023-11-08T10:37:41.747600Z"
    }
   },
   "id": "8a1ab9a72ffd5949"
  },
  {
   "cell_type": "markdown",
   "source": [
    "## 4. Inertie Inter classe"
   ],
   "metadata": {
    "collapsed": false
   },
   "id": "171265bd3765d57"
  },
  {
   "cell_type": "code",
   "execution_count": 15,
   "outputs": [],
   "source": [
    "def inertie_inter_classe(groupes,data):\n",
    "    g=np.mean(data,axis=0)\n",
    "    total = 0\n",
    "    for i in range(len(groupes)):\n",
    "        nc=len(groupes[i])\n",
    "        c=np.mean(groupes[i],axis=0)\n",
    "        de=distance.euclidean(c,g)**2\n",
    "        total+=nc*de\n",
    "    return total/len(data)\n",
    "    "
   ],
   "metadata": {
    "collapsed": false,
    "ExecuteTime": {
     "end_time": "2023-11-08T10:37:41.782660400Z",
     "start_time": "2023-11-08T10:37:41.758852500Z"
    }
   },
   "id": "59a61db90bbb5ba"
  },
  {
   "cell_type": "code",
   "execution_count": 15,
   "outputs": [],
   "source": [],
   "metadata": {
    "collapsed": false,
    "ExecuteTime": {
     "end_time": "2023-11-08T10:37:41.870626700Z",
     "start_time": "2023-11-08T10:37:41.765419800Z"
    }
   },
   "id": "e35ca07800d7b7e4"
  },
  {
   "cell_type": "code",
   "execution_count": 16,
   "outputs": [
    {
     "data": {
      "text/plain": "16.040194574463037"
     },
     "execution_count": 16,
     "metadata": {},
     "output_type": "execute_result"
    }
   ],
   "source": [
    "inertie_inter_classe(cluster,data)"
   ],
   "metadata": {
    "collapsed": false,
    "ExecuteTime": {
     "end_time": "2023-11-08T10:37:41.894306400Z",
     "start_time": "2023-11-08T10:37:41.773471200Z"
    }
   },
   "id": "2da0dc3a83d6fcd8"
  },
  {
   "cell_type": "code",
   "execution_count": 21,
   "outputs": [],
   "source": [
    "def inertie_total(groupes,data):\n",
    "    IntraClass=intra_class(groupes)\n",
    "    InterClass=inertie_inter_classe(groupes,data)\n",
    "    return IntraClass+InterClass"
   ],
   "metadata": {
    "collapsed": false,
    "ExecuteTime": {
     "end_time": "2023-11-08T10:38:23.363833700Z",
     "start_time": "2023-11-08T10:38:23.338722300Z"
    }
   },
   "id": "fc36cbc98efd7638"
  },
  {
   "cell_type": "code",
   "execution_count": 22,
   "outputs": [
    {
     "data": {
      "text/plain": "17.25083494595461"
     },
     "execution_count": 22,
     "metadata": {},
     "output_type": "execute_result"
    }
   ],
   "source": [
    "inertie_total(cluster,data)"
   ],
   "metadata": {
    "collapsed": false,
    "ExecuteTime": {
     "end_time": "2023-11-08T10:38:24.482802Z",
     "start_time": "2023-11-08T10:38:24.464492300Z"
    }
   },
   "id": "a999bb08e5bef2e2"
  },
  {
   "cell_type": "code",
   "execution_count": 23,
   "outputs": [
    {
     "data": {
      "text/plain": "17.25083494595461"
     },
     "execution_count": 23,
     "metadata": {},
     "output_type": "execute_result"
    }
   ],
   "source": [
    "#test\n",
    "inertie_total(cluster,data)"
   ],
   "metadata": {
    "collapsed": false,
    "ExecuteTime": {
     "end_time": "2023-11-08T10:38:25.724553300Z",
     "start_time": "2023-11-08T10:38:25.712918Z"
    }
   },
   "id": "b251cc8d34b34496"
  },
  {
   "cell_type": "markdown",
   "source": [
    "# K means"
   ],
   "metadata": {
    "collapsed": false
   },
   "id": "cff4e2b53e9fea3b"
  },
  {
   "cell_type": "markdown",
   "source": [
    "## 1. Initialisation des données"
   ],
   "metadata": {
    "collapsed": false
   },
   "id": "9b8db68222c18e6b"
  },
  {
   "cell_type": "code",
   "execution_count": 73,
   "outputs": [],
   "source": [
    "iris = sns.load_dataset('iris')"
   ],
   "metadata": {
    "collapsed": false,
    "ExecuteTime": {
     "end_time": "2023-11-08T11:21:23.437962600Z",
     "start_time": "2023-11-08T11:21:23.386184800Z"
    }
   },
   "id": "8f0afdd8ce337b83"
  },
  {
   "cell_type": "code",
   "execution_count": 25,
   "outputs": [
    {
     "data": {
      "text/plain": "   sepal_length  sepal_width  petal_length  petal_width species\n0           5.1          3.5           1.4          0.2  setosa\n1           4.9          3.0           1.4          0.2  setosa\n2           4.7          3.2           1.3          0.2  setosa\n3           4.6          3.1           1.5          0.2  setosa\n4           5.0          3.6           1.4          0.2  setosa",
      "text/html": "<div>\n<style scoped>\n    .dataframe tbody tr th:only-of-type {\n        vertical-align: middle;\n    }\n\n    .dataframe tbody tr th {\n        vertical-align: top;\n    }\n\n    .dataframe thead th {\n        text-align: right;\n    }\n</style>\n<table border=\"1\" class=\"dataframe\">\n  <thead>\n    <tr style=\"text-align: right;\">\n      <th></th>\n      <th>sepal_length</th>\n      <th>sepal_width</th>\n      <th>petal_length</th>\n      <th>petal_width</th>\n      <th>species</th>\n    </tr>\n  </thead>\n  <tbody>\n    <tr>\n      <th>0</th>\n      <td>5.1</td>\n      <td>3.5</td>\n      <td>1.4</td>\n      <td>0.2</td>\n      <td>setosa</td>\n    </tr>\n    <tr>\n      <th>1</th>\n      <td>4.9</td>\n      <td>3.0</td>\n      <td>1.4</td>\n      <td>0.2</td>\n      <td>setosa</td>\n    </tr>\n    <tr>\n      <th>2</th>\n      <td>4.7</td>\n      <td>3.2</td>\n      <td>1.3</td>\n      <td>0.2</td>\n      <td>setosa</td>\n    </tr>\n    <tr>\n      <th>3</th>\n      <td>4.6</td>\n      <td>3.1</td>\n      <td>1.5</td>\n      <td>0.2</td>\n      <td>setosa</td>\n    </tr>\n    <tr>\n      <th>4</th>\n      <td>5.0</td>\n      <td>3.6</td>\n      <td>1.4</td>\n      <td>0.2</td>\n      <td>setosa</td>\n    </tr>\n  </tbody>\n</table>\n</div>"
     },
     "execution_count": 25,
     "metadata": {},
     "output_type": "execute_result"
    }
   ],
   "source": [
    "iris.head()"
   ],
   "metadata": {
    "collapsed": false,
    "ExecuteTime": {
     "end_time": "2023-11-08T10:40:25.035186600Z",
     "start_time": "2023-11-08T10:40:24.991263400Z"
    }
   },
   "id": "2028bd0a542d2260"
  },
  {
   "cell_type": "markdown",
   "source": [],
   "metadata": {
    "collapsed": false
   },
   "id": "abfe7f298ba18cc6"
  },
  {
   "cell_type": "code",
   "execution_count": 26,
   "outputs": [],
   "source": [
    "iris.drop('species',axis=1,inplace=True)"
   ],
   "metadata": {
    "collapsed": false,
    "ExecuteTime": {
     "end_time": "2023-11-08T10:40:36.669154100Z",
     "start_time": "2023-11-08T10:40:36.628563500Z"
    }
   },
   "id": "d50bb8f120e75619"
  },
  {
   "cell_type": "code",
   "execution_count": 27,
   "outputs": [
    {
     "data": {
      "text/plain": "   sepal_length  sepal_width  petal_length  petal_width\n0           5.1          3.5           1.4          0.2\n1           4.9          3.0           1.4          0.2\n2           4.7          3.2           1.3          0.2\n3           4.6          3.1           1.5          0.2\n4           5.0          3.6           1.4          0.2",
      "text/html": "<div>\n<style scoped>\n    .dataframe tbody tr th:only-of-type {\n        vertical-align: middle;\n    }\n\n    .dataframe tbody tr th {\n        vertical-align: top;\n    }\n\n    .dataframe thead th {\n        text-align: right;\n    }\n</style>\n<table border=\"1\" class=\"dataframe\">\n  <thead>\n    <tr style=\"text-align: right;\">\n      <th></th>\n      <th>sepal_length</th>\n      <th>sepal_width</th>\n      <th>petal_length</th>\n      <th>petal_width</th>\n    </tr>\n  </thead>\n  <tbody>\n    <tr>\n      <th>0</th>\n      <td>5.1</td>\n      <td>3.5</td>\n      <td>1.4</td>\n      <td>0.2</td>\n    </tr>\n    <tr>\n      <th>1</th>\n      <td>4.9</td>\n      <td>3.0</td>\n      <td>1.4</td>\n      <td>0.2</td>\n    </tr>\n    <tr>\n      <th>2</th>\n      <td>4.7</td>\n      <td>3.2</td>\n      <td>1.3</td>\n      <td>0.2</td>\n    </tr>\n    <tr>\n      <th>3</th>\n      <td>4.6</td>\n      <td>3.1</td>\n      <td>1.5</td>\n      <td>0.2</td>\n    </tr>\n    <tr>\n      <th>4</th>\n      <td>5.0</td>\n      <td>3.6</td>\n      <td>1.4</td>\n      <td>0.2</td>\n    </tr>\n  </tbody>\n</table>\n</div>"
     },
     "execution_count": 27,
     "metadata": {},
     "output_type": "execute_result"
    }
   ],
   "source": [
    "iris.head()"
   ],
   "metadata": {
    "collapsed": false,
    "ExecuteTime": {
     "end_time": "2023-11-08T10:40:45.513729400Z",
     "start_time": "2023-11-08T10:40:45.473668800Z"
    }
   },
   "id": "de6b1b7a877e24b8"
  },
  {
   "cell_type": "markdown",
   "source": [
    "## 2. Définition des fonction utiles"
   ],
   "metadata": {
    "collapsed": false
   },
   "id": "dd78271fb10147c1"
  },
  {
   "cell_type": "code",
   "execution_count": 35,
   "outputs": [],
   "source": [
    "# Initialisation des centres\n",
    "def init_centres(data,k):\n",
    "    return data[np.random.choice(data.shape[0],k,replace=False)]"
   ],
   "metadata": {
    "collapsed": false,
    "ExecuteTime": {
     "end_time": "2023-11-08T11:00:34.677393600Z",
     "start_time": "2023-11-08T11:00:34.638237300Z"
    }
   },
   "id": "473cf212e15e077b"
  },
  {
   "cell_type": "code",
   "execution_count": 36,
   "outputs": [],
   "source": [
    "data_c=init_centres(iris.values,3)"
   ],
   "metadata": {
    "collapsed": false,
    "ExecuteTime": {
     "end_time": "2023-11-08T11:00:34.940355200Z",
     "start_time": "2023-11-08T11:00:34.910628400Z"
    }
   },
   "id": "241d91377f45442a"
  },
  {
   "cell_type": "code",
   "execution_count": 37,
   "outputs": [
    {
     "data": {
      "text/plain": "array([[5. , 2. , 3.5, 1. ],\n       [5.5, 2.5, 4. , 1.3],\n       [5. , 3.4, 1.6, 0.4]])"
     },
     "execution_count": 37,
     "metadata": {},
     "output_type": "execute_result"
    }
   ],
   "source": [
    "data_c"
   ],
   "metadata": {
    "collapsed": false,
    "ExecuteTime": {
     "end_time": "2023-11-08T11:00:35.224393400Z",
     "start_time": "2023-11-08T11:00:35.194572500Z"
    }
   },
   "id": "2501bd99a862145a"
  },
  {
   "cell_type": "code",
   "execution_count": 38,
   "outputs": [],
   "source": [
    "# initilasation \n",
    "def update_centres(data,centres):\n",
    "    new_centres=[]\n",
    "    for i in range(len(centres)):\n",
    "        new_centres.append(np.mean(data[i],axis=0))\n",
    "    return new_centres"
   ],
   "metadata": {
    "collapsed": false,
    "ExecuteTime": {
     "end_time": "2023-11-08T11:00:35.510167400Z",
     "start_time": "2023-11-08T11:00:35.481728800Z"
    }
   },
   "id": "ec2f1b9e4bc4723a"
  },
  {
   "cell_type": "code",
   "execution_count": 70,
   "outputs": [],
   "source": [
    "def affectation(data,centres):\n",
    "    labels=[]\n",
    "    for i in range(len(data)):\n",
    "        dist=[]\n",
    "        for c in centres:\n",
    "            dist.append(distance.euclidean(data[i],c))\n",
    "        labels.append(np.argmin(dist))\n",
    "    return labels"
   ],
   "metadata": {
    "collapsed": false,
    "ExecuteTime": {
     "end_time": "2023-11-08T11:21:05.377312900Z",
     "start_time": "2023-11-08T11:21:05.343016Z"
    }
   },
   "id": "7553f4a64343f290"
  },
  {
   "cell_type": "code",
   "execution_count": 71,
   "outputs": [],
   "source": [
    "# Kmeans \n",
    "def kmeans(data, Nmax):\n",
    "    #For iris\n",
    "    data.drop('species',axis=1)\n",
    "    centres=init_centres(data.values,3)\n",
    "    for i in range(Nmax):\n",
    "        labels=affectation(data.values,centres)\n",
    "        cluster=regroupement(data.values,labels)\n",
    "        centres=update_centres(cluster,centres)\n",
    "    return centres,labels"
   ],
   "metadata": {
    "collapsed": false,
    "ExecuteTime": {
     "end_time": "2023-11-08T11:21:06.469424800Z",
     "start_time": "2023-11-08T11:21:06.464379600Z"
    }
   },
   "id": "7e156afa78a5a708"
  },
  {
   "cell_type": "code",
   "execution_count": 74,
   "outputs": [],
   "source": [
    "centres,labels=kmeans(iris,100)"
   ],
   "metadata": {
    "collapsed": false,
    "ExecuteTime": {
     "end_time": "2023-11-08T11:21:30.919326900Z",
     "start_time": "2023-11-08T11:21:30.212651200Z"
    }
   },
   "id": "3e8d49f350de6796"
  },
  {
   "cell_type": "code",
   "execution_count": 77,
   "outputs": [
    {
     "data": {
      "text/plain": "<AxesSubplot: >"
     },
     "execution_count": 77,
     "metadata": {},
     "output_type": "execute_result"
    },
    {
     "data": {
      "text/plain": "<Figure size 640x480 with 1 Axes>",
      "image/png": "[encoded data removed]"
     },
     "metadata": {},
     "output_type": "display_data"
    }
   ],
   "source": [
    "#\n",
    "sns.scatterplot(\n",
    "    x=[x[2] for x in iris.values],\n",
    "    y=[x[3] for x in iris.values],\n",
    "    hue=labels\n",
    ")"
   ],
   "metadata": {
    "collapsed": false,
    "ExecuteTime": {
     "end_time": "2023-11-08T11:21:49.769709100Z",
     "start_time": "2023-11-08T11:21:49.393772Z"
    }
   },
   "id": "90fcfc060de09053"
  },
  {
   "cell_type": "code",
   "execution_count": 78,
   "outputs": [
    {
     "ename": "KeyError",
     "evalue": "'species'",
     "output_type": "error",
     "traceback": [
      "\u001B[1;31m---------------------------------------------------------------------------\u001B[0m",
      "\u001B[1;31mKeyError\u001B[0m                                  Traceback (most recent call last)",
      "File \u001B[1;32mC:\\ProgramData\\anaconda3\\Lib\\site-packages\\pandas\\core\\indexes\\base.py:3802\u001B[0m, in \u001B[0;36mIndex.get_loc\u001B[1;34m(self, key, method, tolerance)\u001B[0m\n\u001B[0;32m   3801\u001B[0m \u001B[38;5;28;01mtry\u001B[39;00m:\n\u001B[1;32m-> 3802\u001B[0m     \u001B[38;5;28;01mreturn\u001B[39;00m \u001B[38;5;28mself\u001B[39m\u001B[38;5;241m.\u001B[39m_engine\u001B[38;5;241m.\u001B[39mget_loc(casted_key)\n\u001B[0;32m   3803\u001B[0m \u001B[38;5;28;01mexcept\u001B[39;00m \u001B[38;5;167;01mKeyError\u001B[39;00m \u001B[38;5;28;01mas\u001B[39;00m err:\n",
      "File \u001B[1;32mC:\\ProgramData\\anaconda3\\Lib\\site-packages\\pandas\\_libs\\index.pyx:138\u001B[0m, in \u001B[0;36mpandas._libs.index.IndexEngine.get_loc\u001B[1;34m()\u001B[0m\n",
      "File \u001B[1;32mC:\\ProgramData\\anaconda3\\Lib\\site-packages\\pandas\\_libs\\index.pyx:165\u001B[0m, in \u001B[0;36mpandas._libs.index.IndexEngine.get_loc\u001B[1;34m()\u001B[0m\n",
      "File \u001B[1;32mpandas\\_libs\\hashtable_class_helper.pxi:5745\u001B[0m, in \u001B[0;36mpandas._libs.hashtable.PyObjectHashTable.get_item\u001B[1;34m()\u001B[0m\n",
      "File \u001B[1;32mpandas\\_libs\\hashtable_class_helper.pxi:5753\u001B[0m, in \u001B[0;36mpandas._libs.hashtable.PyObjectHashTable.get_item\u001B[1;34m()\u001B[0m\n",
      "\u001B[1;31mKeyError\u001B[0m: 'species'",
      "\nThe above exception was the direct cause of the following exception:\n",
      "\u001B[1;31mKeyError\u001B[0m                                  Traceback (most recent call last)",
      "Cell \u001B[1;32mIn[78], line 4\u001B[0m\n\u001B[0;32m      1\u001B[0m sns\u001B[38;5;241m.\u001B[39mscatterplot(\n\u001B[0;32m      2\u001B[0m     x\u001B[38;5;241m=\u001B[39m[x[\u001B[38;5;241m2\u001B[39m] \u001B[38;5;28;01mfor\u001B[39;00m x \u001B[38;5;129;01min\u001B[39;00m iris\u001B[38;5;241m.\u001B[39mvalues],\n\u001B[0;32m      3\u001B[0m     y\u001B[38;5;241m=\u001B[39m[x[\u001B[38;5;241m3\u001B[39m] \u001B[38;5;28;01mfor\u001B[39;00m x \u001B[38;5;129;01min\u001B[39;00m iris\u001B[38;5;241m.\u001B[39mvalues],\n\u001B[1;32m----> 4\u001B[0m     hue\u001B[38;5;241m=\u001B[39miris[\u001B[38;5;124m'\u001B[39m\u001B[38;5;124mspecies\u001B[39m\u001B[38;5;124m'\u001B[39m]\n\u001B[0;32m      5\u001B[0m )\n",
      "File \u001B[1;32mC:\\ProgramData\\anaconda3\\Lib\\site-packages\\pandas\\core\\frame.py:3807\u001B[0m, in \u001B[0;36mDataFrame.__getitem__\u001B[1;34m(self, key)\u001B[0m\n\u001B[0;32m   3805\u001B[0m \u001B[38;5;28;01mif\u001B[39;00m \u001B[38;5;28mself\u001B[39m\u001B[38;5;241m.\u001B[39mcolumns\u001B[38;5;241m.\u001B[39mnlevels \u001B[38;5;241m>\u001B[39m \u001B[38;5;241m1\u001B[39m:\n\u001B[0;32m   3806\u001B[0m     \u001B[38;5;28;01mreturn\u001B[39;00m \u001B[38;5;28mself\u001B[39m\u001B[38;5;241m.\u001B[39m_getitem_multilevel(key)\n\u001B[1;32m-> 3807\u001B[0m indexer \u001B[38;5;241m=\u001B[39m \u001B[38;5;28mself\u001B[39m\u001B[38;5;241m.\u001B[39mcolumns\u001B[38;5;241m.\u001B[39mget_loc(key)\n\u001B[0;32m   3808\u001B[0m \u001B[38;5;28;01mif\u001B[39;00m is_integer(indexer):\n\u001B[0;32m   3809\u001B[0m     indexer \u001B[38;5;241m=\u001B[39m [indexer]\n",
      "File \u001B[1;32mC:\\ProgramData\\anaconda3\\Lib\\site-packages\\pandas\\core\\indexes\\base.py:3804\u001B[0m, in \u001B[0;36mIndex.get_loc\u001B[1;34m(self, key, method, tolerance)\u001B[0m\n\u001B[0;32m   3802\u001B[0m     \u001B[38;5;28;01mreturn\u001B[39;00m \u001B[38;5;28mself\u001B[39m\u001B[38;5;241m.\u001B[39m_engine\u001B[38;5;241m.\u001B[39mget_loc(casted_key)\n\u001B[0;32m   3803\u001B[0m \u001B[38;5;28;01mexcept\u001B[39;00m \u001B[38;5;167;01mKeyError\u001B[39;00m \u001B[38;5;28;01mas\u001B[39;00m err:\n\u001B[1;32m-> 3804\u001B[0m     \u001B[38;5;28;01mraise\u001B[39;00m \u001B[38;5;167;01mKeyError\u001B[39;00m(key) \u001B[38;5;28;01mfrom\u001B[39;00m \u001B[38;5;21;01merr\u001B[39;00m\n\u001B[0;32m   3805\u001B[0m \u001B[38;5;28;01mexcept\u001B[39;00m \u001B[38;5;167;01mTypeError\u001B[39;00m:\n\u001B[0;32m   3806\u001B[0m     \u001B[38;5;66;03m# If we have a listlike key, _check_indexing_error will raise\u001B[39;00m\n\u001B[0;32m   3807\u001B[0m     \u001B[38;5;66;03m#  InvalidIndexError. Otherwise we fall through and re-raise\u001B[39;00m\n\u001B[0;32m   3808\u001B[0m     \u001B[38;5;66;03m#  the TypeError.\u001B[39;00m\n\u001B[0;32m   3809\u001B[0m     \u001B[38;5;28mself\u001B[39m\u001B[38;5;241m.\u001B[39m_check_indexing_error(key)\n",
      "\u001B[1;31mKeyError\u001B[0m: 'species'"
     ]
    }
   ],
   "source": [
    "\n",
    "sns.scatterplot(\n",
    "    x=[x[2] for x in iris.values],\n",
    "    y=[x[3] for x in iris.values],\n",
    "    hue=iris['species']\n",
    ")"
   ],
   "metadata": {
    "collapsed": false,
    "ExecuteTime": {
     "end_time": "2023-11-08T11:22:02.342461700Z",
     "start_time": "2023-11-08T11:22:02.249451100Z"
    }
   },
   "id": "c8a3f10714327edb"
  },
  {
   "cell_type": "code",
   "execution_count": null,
   "outputs": [],
   "source": [],
   "metadata": {
    "collapsed": false
   },
   "id": "91389bc08a666366"
  }
 ],
 "metadata": {
  "kernelspec": {
   "display_name": "Python 3",
   "language": "python",
   "name": "python3"
  },
  "language_info": {
   "codemirror_mode": {
    "name": "ipython",
    "version": 2
   },
   "file_extension": ".py",
   "mimetype": "text/x-python",
   "name": "python",
   "nbconvert_exporter": "python",
   "pygments_lexer": "ipython2",
   "version": "2.7.6"
  }
 },
 "nbformat": 4,
 "nbformat_minor": 5
}

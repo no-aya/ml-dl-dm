{
 "cells": [
  {
   "cell_type": "markdown",
   "source": [
    "# Regression Logistique"
   ],
   "metadata": {
    "collapsed": false
   },
   "id": "79307bd44b308b83"
  },
  {
   "cell_type": "code",
   "execution_count": 1,
   "id": "initial_id",
   "metadata": {
    "collapsed": true,
    "ExecuteTime": {
     "end_time": "2023-10-25T10:29:34.254605100Z",
     "start_time": "2023-10-25T10:29:32.794960100Z"
    }
   },
   "outputs": [],
   "source": [
    "# Import des librairies\n",
    "import pandas as pd\n",
    "import numpy as np\n",
    "import sklearn as sk"
   ]
  },
  {
   "cell_type": "code",
   "execution_count": 1,
   "outputs": [],
   "source": [],
   "metadata": {
    "collapsed": false,
    "ExecuteTime": {
     "end_time": "2023-10-25T10:29:34.258982800Z",
     "start_time": "2023-10-25T10:29:34.258451Z"
    }
   },
   "id": "1a442787b751b7d1"
  },
  {
   "cell_type": "markdown",
   "source": [
    "## 1. Import des données"
   ],
   "metadata": {
    "collapsed": false
   },
   "id": "3c391b44858bd1f4"
  },
  {
   "cell_type": "code",
   "execution_count": 2,
   "outputs": [
    {
     "data": {
      "text/plain": "   Id  SepalLengthCm  SepalWidthCm  PetalLengthCm  PetalWidthCm      Species\n0   1            5.1           3.5            1.4           0.2  Iris-setosa\n1   2            4.9           3.0            1.4           0.2  Iris-setosa\n2   3            4.7           3.2            1.3           0.2  Iris-setosa\n3   4            4.6           3.1            1.5           0.2  Iris-setosa\n4   5            5.0           3.6            1.4           0.2  Iris-setosa",
      "text/html": "<div>\n<style scoped>\n    .dataframe tbody tr th:only-of-type {\n        vertical-align: middle;\n    }\n\n    .dataframe tbody tr th {\n        vertical-align: top;\n    }\n\n    .dataframe thead th {\n        text-align: right;\n    }\n</style>\n<table border=\"1\" class=\"dataframe\">\n  <thead>\n    <tr style=\"text-align: right;\">\n      <th></th>\n      <th>Id</th>\n      <th>SepalLengthCm</th>\n      <th>SepalWidthCm</th>\n      <th>PetalLengthCm</th>\n      <th>PetalWidthCm</th>\n      <th>Species</th>\n    </tr>\n  </thead>\n  <tbody>\n    <tr>\n      <th>0</th>\n      <td>1</td>\n      <td>5.1</td>\n      <td>3.5</td>\n      <td>1.4</td>\n      <td>0.2</td>\n      <td>Iris-setosa</td>\n    </tr>\n    <tr>\n      <th>1</th>\n      <td>2</td>\n      <td>4.9</td>\n      <td>3.0</td>\n      <td>1.4</td>\n      <td>0.2</td>\n      <td>Iris-setosa</td>\n    </tr>\n    <tr>\n      <th>2</th>\n      <td>3</td>\n      <td>4.7</td>\n      <td>3.2</td>\n      <td>1.3</td>\n      <td>0.2</td>\n      <td>Iris-setosa</td>\n    </tr>\n    <tr>\n      <th>3</th>\n      <td>4</td>\n      <td>4.6</td>\n      <td>3.1</td>\n      <td>1.5</td>\n      <td>0.2</td>\n      <td>Iris-setosa</td>\n    </tr>\n    <tr>\n      <th>4</th>\n      <td>5</td>\n      <td>5.0</td>\n      <td>3.6</td>\n      <td>1.4</td>\n      <td>0.2</td>\n      <td>Iris-setosa</td>\n    </tr>\n  </tbody>\n</table>\n</div>"
     },
     "execution_count": 2,
     "metadata": {},
     "output_type": "execute_result"
    }
   ],
   "source": [
    "# Import des données\n",
    "data = pd.read_csv(\"data/Iris.csv\")\n",
    "data.head()"
   ],
   "metadata": {
    "collapsed": false,
    "ExecuteTime": {
     "end_time": "2023-10-25T10:29:34.289137300Z",
     "start_time": "2023-10-25T10:29:34.258982800Z"
    }
   },
   "id": "1acf0df45392068a"
  },
  {
   "cell_type": "code",
   "execution_count": 3,
   "outputs": [
    {
     "data": {
      "text/plain": "   SepalLengthCm  SepalWidthCm  PetalLengthCm  PetalWidthCm      Species\n0            5.1           3.5            1.4           0.2  Iris-setosa\n1            4.9           3.0            1.4           0.2  Iris-setosa\n2            4.7           3.2            1.3           0.2  Iris-setosa\n3            4.6           3.1            1.5           0.2  Iris-setosa\n4            5.0           3.6            1.4           0.2  Iris-setosa",
      "text/html": "<div>\n<style scoped>\n    .dataframe tbody tr th:only-of-type {\n        vertical-align: middle;\n    }\n\n    .dataframe tbody tr th {\n        vertical-align: top;\n    }\n\n    .dataframe thead th {\n        text-align: right;\n    }\n</style>\n<table border=\"1\" class=\"dataframe\">\n  <thead>\n    <tr style=\"text-align: right;\">\n      <th></th>\n      <th>SepalLengthCm</th>\n      <th>SepalWidthCm</th>\n      <th>PetalLengthCm</th>\n      <th>PetalWidthCm</th>\n      <th>Species</th>\n    </tr>\n  </thead>\n  <tbody>\n    <tr>\n      <th>0</th>\n      <td>5.1</td>\n      <td>3.5</td>\n      <td>1.4</td>\n      <td>0.2</td>\n      <td>Iris-setosa</td>\n    </tr>\n    <tr>\n      <th>1</th>\n      <td>4.9</td>\n      <td>3.0</td>\n      <td>1.4</td>\n      <td>0.2</td>\n      <td>Iris-setosa</td>\n    </tr>\n    <tr>\n      <th>2</th>\n      <td>4.7</td>\n      <td>3.2</td>\n      <td>1.3</td>\n      <td>0.2</td>\n      <td>Iris-setosa</td>\n    </tr>\n    <tr>\n      <th>3</th>\n      <td>4.6</td>\n      <td>3.1</td>\n      <td>1.5</td>\n      <td>0.2</td>\n      <td>Iris-setosa</td>\n    </tr>\n    <tr>\n      <th>4</th>\n      <td>5.0</td>\n      <td>3.6</td>\n      <td>1.4</td>\n      <td>0.2</td>\n      <td>Iris-setosa</td>\n    </tr>\n  </tbody>\n</table>\n</div>"
     },
     "execution_count": 3,
     "metadata": {},
     "output_type": "execute_result"
    }
   ],
   "source": [
    "# On supprime la colonne Id\n",
    "data = data.drop(\"Id\", axis=1)\n",
    "data.head()"
   ],
   "metadata": {
    "collapsed": false,
    "ExecuteTime": {
     "end_time": "2023-10-25T10:29:34.307846Z",
     "start_time": "2023-10-25T10:29:34.289137300Z"
    }
   },
   "id": "1667e5484899787d"
  },
  {
   "cell_type": "code",
   "execution_count": 4,
   "outputs": [],
   "source": [
    "# 100 première lignes \n",
    "data_2=data.head(100)"
   ],
   "metadata": {
    "collapsed": false,
    "ExecuteTime": {
     "end_time": "2023-10-25T10:29:34.352179400Z",
     "start_time": "2023-10-25T10:29:34.306876600Z"
    }
   },
   "id": "9bf12f10d1b7417c"
  },
  {
   "cell_type": "code",
   "execution_count": 5,
   "outputs": [],
   "source": [
    "# Répatir les données en données d'entrainement et données de validation\n",
    "from sklearn.model_selection import train_test_split\n",
    "X = data_2.drop(\"Species\", axis=1)\n",
    "y = data_2.Species\n",
    "X_train, X_valid, y_train, y_valid = train_test_split(X, y, train_size=0.8, test_size=0.2,random_state=0)"
   ],
   "metadata": {
    "collapsed": false,
    "ExecuteTime": {
     "end_time": "2023-10-25T10:29:34.494772500Z",
     "start_time": "2023-10-25T10:29:34.307846Z"
    }
   },
   "id": "51dba573b2f9b344"
  },
  {
   "cell_type": "code",
   "execution_count": 6,
   "outputs": [],
   "source": [
    "# On transforme la variable Species en 2 variables binaires\n",
    "from sklearn.preprocessing import LabelBinarizer\n",
    "enc = LabelBinarizer()\n",
    "y_train = enc.fit_transform(y_train)\n",
    "y_valid = enc.transform(y_valid)"
   ],
   "metadata": {
    "collapsed": false,
    "ExecuteTime": {
     "end_time": "2023-10-25T10:29:34.494772500Z",
     "start_time": "2023-10-25T10:29:34.415129400Z"
    }
   },
   "id": "5b18d4a21687eec0"
  },
  {
   "cell_type": "code",
   "execution_count": 7,
   "outputs": [
    {
     "data": {
      "text/plain": "(80, 4)"
     },
     "execution_count": 7,
     "metadata": {},
     "output_type": "execute_result"
    }
   ],
   "source": [
    "X_train.shape"
   ],
   "metadata": {
    "collapsed": false,
    "ExecuteTime": {
     "end_time": "2023-10-25T10:29:34.494772500Z",
     "start_time": "2023-10-25T10:29:34.419158900Z"
    }
   },
   "id": "da35ea99e97ef768"
  },
  {
   "cell_type": "markdown",
   "source": [
    "## 2. Modèle de régression logistique"
   ],
   "metadata": {
    "collapsed": false
   },
   "id": "228fb48c6092a9b9"
  },
  {
   "cell_type": "code",
   "execution_count": 8,
   "outputs": [],
   "source": [
    "# Regression linéaire\n",
    "def Z(x, w, b):\n",
    "    return np.dot(x, w) + b"
   ],
   "metadata": {
    "collapsed": false,
    "ExecuteTime": {
     "end_time": "2023-10-25T10:29:34.494772500Z",
     "start_time": "2023-10-25T10:29:34.431044Z"
    }
   },
   "id": "9c8c7e785eca9c84"
  },
  {
   "cell_type": "code",
   "execution_count": 9,
   "outputs": [],
   "source": [
    "## Fonction logistique\n",
    "def sigmoid(z):\n",
    "    return 1 / (1 + np.exp(-z))"
   ],
   "metadata": {
    "collapsed": false,
    "ExecuteTime": {
     "end_time": "2023-10-25T10:29:34.494772500Z",
     "start_time": "2023-10-25T10:29:34.433981800Z"
    }
   },
   "id": "bd851a6f42bb9fdb"
  },
  {
   "cell_type": "code",
   "execution_count": 10,
   "outputs": [],
   "source": [
    "# Fonction de prédiction\n",
    "def prediction(X, w, b):\n",
    "    z=Z(X,w,b)\n",
    "    y_hat = sigmoid(z)\n",
    "    y_hat = np.where(y_hat>0.5, 1,0)\n",
    "    return y_hat"
   ],
   "metadata": {
    "collapsed": false,
    "ExecuteTime": {
     "end_time": "2023-10-25T10:29:34.494772500Z",
     "start_time": "2023-10-25T10:29:34.439134200Z"
    }
   },
   "id": "3bd3f38ee5a69db7"
  },
  {
   "cell_type": "code",
   "execution_count": 11,
   "outputs": [],
   "source": [
    "# Test \n"
   ],
   "metadata": {
    "collapsed": false,
    "ExecuteTime": {
     "end_time": "2023-10-25T10:29:34.494772500Z",
     "start_time": "2023-10-25T10:29:34.448512900Z"
    }
   },
   "id": "f00e883baf0d18e6"
  },
  {
   "cell_type": "code",
   "execution_count": 12,
   "outputs": [
    {
     "data": {
      "text/plain": "array([[0],\n       [1],\n       [0],\n       [1],\n       [0],\n       [0],\n       [0],\n       [1],\n       [1],\n       [1],\n       [1],\n       [1],\n       [1],\n       [1],\n       [1],\n       [0],\n       [0],\n       [1],\n       [1],\n       [1],\n       [0],\n       [1],\n       [0],\n       [0],\n       [0],\n       [0],\n       [0],\n       [0],\n       [0],\n       [0],\n       [1],\n       [1],\n       [0],\n       [0],\n       [0],\n       [1],\n       [0],\n       [0],\n       [0],\n       [1],\n       [0],\n       [0],\n       [1],\n       [1],\n       [1],\n       [1],\n       [0],\n       [1],\n       [0],\n       [1],\n       [0],\n       [0],\n       [0],\n       [1],\n       [1],\n       [1],\n       [0],\n       [1],\n       [1],\n       [1],\n       [0],\n       [0],\n       [1],\n       [0],\n       [0],\n       [1],\n       [1],\n       [0],\n       [1],\n       [1],\n       [1],\n       [0],\n       [0],\n       [1],\n       [0],\n       [1],\n       [1],\n       [1],\n       [0],\n       [0]])"
     },
     "execution_count": 12,
     "metadata": {},
     "output_type": "execute_result"
    }
   ],
   "source": [
    "y_train"
   ],
   "metadata": {
    "collapsed": false,
    "ExecuteTime": {
     "end_time": "2023-10-25T10:29:34.494772500Z",
     "start_time": "2023-10-25T10:29:34.455938300Z"
    }
   },
   "id": "c0ac4dd4e20bcd6d"
  },
  {
   "cell_type": "code",
   "execution_count": 13,
   "outputs": [],
   "source": [
    "def loss_function(y, y_hat):\n",
    "    m = y.shape[0]\n",
    "    return -1 / m * np.sum(y * np.log(y_hat) + (1 - y) * np.log(1 - y_hat))"
   ],
   "metadata": {
    "collapsed": false,
    "ExecuteTime": {
     "end_time": "2023-10-25T10:29:34.494772500Z",
     "start_time": "2023-10-25T10:29:34.462563300Z"
    }
   },
   "id": "8f3be75ddb5853bf"
  },
  {
   "cell_type": "code",
   "execution_count": 18,
   "outputs": [],
   "source": [
    "## Fonction de coût\n",
    "def cost_logistic(X, y, w, b):\n",
    "    z=Z(X,w,b)\n",
    "    y_hat=sigmoid(z)\n",
    "    cost = loss_function(y, y_hat)\n",
    "    return cost"
   ],
   "metadata": {
    "collapsed": false,
    "ExecuteTime": {
     "end_time": "2023-10-25T10:30:24.783246200Z",
     "start_time": "2023-10-25T10:30:24.751194500Z"
    }
   },
   "id": "1f96cece6cae1aab"
  },
  {
   "cell_type": "code",
   "execution_count": 19,
   "outputs": [],
   "source": [
    "def gradient(X, y, y_hat):\n",
    "    m= X.shape[0]\n",
    "    dw = 1/m * np.dot(X.T, (y_hat - y))\n",
    "    db = 1/m * np.sum(y_hat - y)\n",
    "    return dw, db"
   ],
   "metadata": {
    "collapsed": false,
    "ExecuteTime": {
     "end_time": "2023-10-25T10:30:25.060867600Z",
     "start_time": "2023-10-25T10:30:25.029187700Z"
    }
   },
   "id": "3ef6afff53e30b60"
  },
  {
   "cell_type": "code",
   "execution_count": 48,
   "outputs": [],
   "source": [
    "## Fonction d'entrainement\n",
    "def train_logistic(X, y, w, b, learning_rate, iterations):\n",
    "    cost_hist =[]\n",
    "    for it in range(iterations):\n",
    "        z = Z(X, w, b)\n",
    "        y_hat = sigmoid(z)\n",
    "        # Calcul des gradients\n",
    "        dw, db = gradient(X, y, y_hat)\n",
    "        # Mise à jour des paramètres\n",
    "        w = w - learning_rate * dw\n",
    "        b = b - learning_rate * db\n",
    "        # Cout \n",
    "        cost = cost_logistic(X, y, w, b)\n",
    "        cost_hist.append(cost)\n",
    "        if it % 100 == 0:\n",
    "            print(\"iter : {}, cost : {}\".format(it, cost))\n",
    "    return w, b, cost_hist"
   ],
   "metadata": {
    "collapsed": false,
    "ExecuteTime": {
     "end_time": "2023-10-25T11:05:02.554764600Z",
     "start_time": "2023-10-25T11:05:02.540398900Z"
    }
   },
   "id": "6795b95e97f9fab7"
  },
  {
   "cell_type": "code",
   "execution_count": 49,
   "outputs": [
    {
     "name": "stdout",
     "output_type": "stream",
     "text": [
      "iter : 0, cost : 0.686977610794238\n",
      "iter : 100, cost : 0.39104516993767113\n",
      "iter : 200, cost : 0.26235368408928056\n",
      "iter : 300, cost : 0.19467023780719128\n",
      "iter : 400, cost : 0.15399486132239112\n",
      "iter : 500, cost : 0.12715342919219272\n",
      "iter : 600, cost : 0.10821833455093346\n",
      "iter : 700, cost : 0.09418577743822877\n",
      "iter : 800, cost : 0.08338777215695359\n",
      "iter : 900, cost : 0.07482972545842333\n"
     ]
    }
   ],
   "source": [
    "## Test\n",
    "w = np.zeros((X_train.shape[1], 1))\n",
    "b = 0  \n",
    "learning_rate = 0.01\n",
    "it = 1000\n",
    "w, b, cost_hist = train_logistic(X_train, y_train, w, b, learning_rate, it)"
   ],
   "metadata": {
    "collapsed": false,
    "ExecuteTime": {
     "end_time": "2023-10-25T11:05:03.035104300Z",
     "start_time": "2023-10-25T11:05:02.807504300Z"
    }
   },
   "id": "641e6a2fffcff273"
  },
  {
   "cell_type": "code",
   "execution_count": 50,
   "outputs": [],
   "source": [
    "# Visualiser la progression des couts \n",
    "import matplotlib.pyplot as plt"
   ],
   "metadata": {
    "collapsed": false,
    "ExecuteTime": {
     "end_time": "2023-10-25T11:05:10.604740200Z",
     "start_time": "2023-10-25T11:05:10.583758200Z"
    }
   },
   "id": "c7a94539fdd317ff"
  },
  {
   "cell_type": "code",
   "execution_count": 51,
   "outputs": [
    {
     "data": {
      "text/plain": "[<matplotlib.lines.Line2D at 0x1f49c9c6450>]"
     },
     "execution_count": 51,
     "metadata": {},
     "output_type": "execute_result"
    },
    {
     "data": {
      "text/plain": "<Figure size 640x480 with 1 Axes>",
      "image/png": "[encoded data removed]"
     },
     "metadata": {},
     "output_type": "display_data"
    }
   ],
   "source": [
    "plt.plot(cost_hist)"
   ],
   "metadata": {
    "collapsed": false,
    "ExecuteTime": {
     "end_time": "2023-10-25T11:05:11.070585200Z",
     "start_time": "2023-10-25T11:05:10.916809400Z"
    }
   },
   "id": "3f58eb50c620b78a"
  },
  {
   "cell_type": "code",
   "execution_count": 42,
   "outputs": [
    {
     "data": {
      "text/plain": "[0.686977610794238,\n 0.6812595847188226,\n 0.6758953714679357,\n 0.6708102458384413,\n 0.6659471149895775,\n 0.6612623652024731,\n 0.6567226696353791,\n 0.6523025440687866,\n 0.6479824801190679,\n 0.6437475218000659,\n 0.6395861811911575,\n 0.6354896128448951,\n 0.631450985311143,\n 0.6274650026981184,\n 0.6235275403861604,\n 0.6196353675825076,\n 0.615785935946508,\n 0.6119772184947385,\n 0.6082075867820088,\n 0.6044757172312004,\n 0.6007805196702298,\n 0.5971210827944751,\n 0.5934966325343106,\n 0.5899065002661156,\n 0.586350098534141,\n 0.5828269025052691,\n 0.579336435800887,\n 0.5758782596716098,\n 0.5724519647255731,\n 0.5690571646077531,\n 0.5656934911701902,\n 0.5623605907816401,\n 0.5590581215081091,\n 0.5557857509590344,\n 0.5525431546422365,\n 0.5493300147076978,\n 0.5461460189884629,\n 0.5429908602685244,\n 0.5398642357240572,\n 0.5367658464969794,\n 0.5336953973694598,\n 0.5306525965153757,\n 0.5276371553103704,\n 0.524648788186475,\n 0.5216872125205657,\n 0.5187521485484603,\n 0.5158433192983856,\n 0.5129604505390369,\n 0.5101032707385764,\n 0.5072715110317899,\n 0.5044649051932811,\n 0.5016831896150943,\n 0.4989261032875376,\n 0.4961933877822861,\n 0.49348478723705835,\n 0.49080004834134494,\n 0.4881389203227917,\n 0.4855011549339436,\n 0.48288650643913666,\n 0.4802947316013742,\n 0.4777255896690771,\n 0.4751788423626276,\n 0.4726542538606518,\n 0.4701515907860048,\n 0.46767062219143907,\n 0.4652111195449442,\n 0.46277285671475854,\n 0.46035560995405267,\n 0.4579591578852963,\n 0.45558328148431904,\n 0.4532277640640757,\n 0.4508923912581338,\n 0.44857695100389816,\n 0.44628123352558674,\n 0.4440050313169772,\n 0.4417481391239374,\n 0.43951035392675797,\n 0.4372914749223023,\n 0.43509130350598896,\n 0.4329096432536223,\n 0.4307462999030852,\n 0.4286010813359097,\n 0.4264737975587366,\n 0.4243642606846793,\n 0.42227228491460433,\n 0.4201976865183406,\n 0.41814028381582713,\n 0.41609989715821527,\n 0.4140763489089307,\n 0.4120694634247096,\n 0.4100790670366169,\n 0.4081049880310569,\n 0.4061470566307852,\n 0.40420510497593026,\n 0.4022789671050333,\n 0.4003684789361144,\n 0.39847347824777224,\n 0.39659380466032507,\n 0.39472929961699904,\n 0.39287980636517067]"
     },
     "execution_count": 42,
     "metadata": {},
     "output_type": "execute_result"
    }
   ],
   "source": [
    "cost_hist"
   ],
   "metadata": {
    "collapsed": false,
    "ExecuteTime": {
     "end_time": "2023-10-25T11:01:09.102713300Z",
     "start_time": "2023-10-25T11:01:09.077623800Z"
    }
   },
   "id": "f4f4eceb4f082a07"
  },
  {
   "cell_type": "code",
   "execution_count": 30,
   "outputs": [],
   "source": [
    "# Prédiction\n",
    "y_hat_train = prediction(X_train, w, b)"
   ],
   "metadata": {
    "collapsed": false,
    "ExecuteTime": {
     "end_time": "2023-10-25T10:58:07.072032Z",
     "start_time": "2023-10-25T10:58:07.048876300Z"
    }
   },
   "id": "f37ce63a441df410"
  },
  {
   "cell_type": "code",
   "execution_count": 23,
   "outputs": [
    {
     "data": {
      "text/plain": "array([[0],\n       [1],\n       [0],\n       [1],\n       [0],\n       [0],\n       [0],\n       [1],\n       [1],\n       [1],\n       [1],\n       [1],\n       [1],\n       [1],\n       [1],\n       [0],\n       [0],\n       [1],\n       [1],\n       [1],\n       [0],\n       [1],\n       [0],\n       [0],\n       [0],\n       [0],\n       [0],\n       [0],\n       [0],\n       [0],\n       [1],\n       [1],\n       [0],\n       [0],\n       [0],\n       [1],\n       [0],\n       [0],\n       [0],\n       [1],\n       [0],\n       [0],\n       [1],\n       [1],\n       [1],\n       [1],\n       [0],\n       [1],\n       [0],\n       [1],\n       [0],\n       [0],\n       [0],\n       [1],\n       [1],\n       [1],\n       [0],\n       [1],\n       [1],\n       [1],\n       [0],\n       [0],\n       [1],\n       [0],\n       [0],\n       [1],\n       [1],\n       [0],\n       [1],\n       [1],\n       [1],\n       [0],\n       [0],\n       [1],\n       [0],\n       [1],\n       [1],\n       [1],\n       [0],\n       [0]])"
     },
     "execution_count": 23,
     "metadata": {},
     "output_type": "execute_result"
    }
   ],
   "source": [
    "y_hat_train"
   ],
   "metadata": {
    "collapsed": false,
    "ExecuteTime": {
     "end_time": "2023-10-25T10:32:41.699503400Z",
     "start_time": "2023-10-25T10:32:41.683834400Z"
    }
   },
   "id": "b2d5bebf92de38ea"
  },
  {
   "cell_type": "code",
   "execution_count": 24,
   "outputs": [
    {
     "data": {
      "text/plain": "array([[0],\n       [1],\n       [0],\n       [1],\n       [1],\n       [1],\n       [0],\n       [1],\n       [1],\n       [1],\n       [1],\n       [1],\n       [1],\n       [0],\n       [0],\n       [0],\n       [0],\n       [0],\n       [0],\n       [0]])"
     },
     "execution_count": 24,
     "metadata": {},
     "output_type": "execute_result"
    }
   ],
   "source": [
    "y_valid"
   ],
   "metadata": {
    "collapsed": false,
    "ExecuteTime": {
     "end_time": "2023-10-25T10:39:05.225361600Z",
     "start_time": "2023-10-25T10:39:05.178232500Z"
    }
   },
   "id": "2365780362a1eb72"
  },
  {
   "cell_type": "markdown",
   "source": [
    "## 3. Evaluation du modèle"
   ],
   "metadata": {
    "collapsed": false
   },
   "id": "f7ecaea78bbba563"
  },
  {
   "cell_type": "code",
   "execution_count": 55,
   "outputs": [
    {
     "data": {
      "text/plain": "<AxesSubplot: >"
     },
     "execution_count": 55,
     "metadata": {},
     "output_type": "execute_result"
    },
    {
     "data": {
      "text/plain": "<Figure size 640x480 with 2 Axes>",
      "image/png": "[encoded data removed]"
     },
     "metadata": {},
     "output_type": "display_data"
    }
   ],
   "source": [
    "# Evaluation du modèle\n",
    "from sklearn.metrics import confusion_matrix\n",
    "import seaborn as sns\n",
    "cf_matrix=confusion_matrix(y_valid, prediction(X_valid, w, b))\n",
    "sns.heatmap(cf_matrix, annot=True)"
   ],
   "metadata": {
    "collapsed": false,
    "ExecuteTime": {
     "end_time": "2023-10-25T11:07:17.290722100Z",
     "start_time": "2023-10-25T11:07:17.111533200Z"
    }
   },
   "id": "f483e3de585a0ad4"
  },
  {
   "cell_type": "code",
   "execution_count": null,
   "outputs": [],
   "source": [],
   "metadata": {
    "collapsed": false
   },
   "id": "821ee2bbe7cb70b7"
  }
 ],
 "metadata": {
  "kernelspec": {
   "display_name": "Python 3",
   "language": "python",
   "name": "python3"
  },
  "language_info": {
   "codemirror_mode": {
    "name": "ipython",
    "version": 2
   },
   "file_extension": ".py",
   "mimetype": "text/x-python",
   "name": "python",
   "nbconvert_exporter": "python",
   "pygments_lexer": "ipython2",
   "version": "2.7.6"
  }
 },
 "nbformat": 4,
 "nbformat_minor": 5
}
